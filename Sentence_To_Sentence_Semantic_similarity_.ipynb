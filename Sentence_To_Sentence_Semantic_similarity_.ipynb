{
  "cells": [
    {
      "cell_type": "markdown",
      "metadata": {
        "id": "view-in-github",
        "colab_type": "text"
      },
      "source": [
        "<a href=\"https://colab.research.google.com/github/HudaZainElAbden/Sentence-to-Sentence-semantic-similarity-NLP/blob/main/Sentence_To_Sentence_Semantic_similarity_.ipynb\" target=\"_parent\"><img src=\"https://colab.research.google.com/assets/colab-badge.svg\" alt=\"Open In Colab\"/></a>"
      ]
    },
    {
      "cell_type": "code",
      "execution_count": null,
      "metadata": {
        "colab": {
          "base_uri": "https://localhost:8080/"
        },
        "id": "jQNX5JnAK7dM",
        "outputId": "c106a5d2-db56-4541-df42-6f1a1c25efff"
      },
      "outputs": [
        {
          "name": "stdout",
          "output_type": "stream",
          "text": [
            "Collecting gensim\n",
            "  Downloading gensim-4.2.0-cp39-cp39-win_amd64.whl (23.9 MB)\n",
            "Requirement already satisfied: scipy>=0.18.1 in c:\\users\\home\\.conda\\envs\\ml\\lib\\site-packages (from gensim) (1.8.0)\n",
            "Collecting smart-open>=1.8.1\n",
            "  Downloading smart_open-6.0.0-py3-none-any.whl (58 kB)\n",
            "Collecting Cython==0.29.28\n",
            "  Downloading Cython-0.29.28-py2.py3-none-any.whl (983 kB)\n",
            "Requirement already satisfied: numpy>=1.17.0 in c:\\users\\home\\appdata\\roaming\\python\\python39\\site-packages (from gensim) (1.20.3)\n",
            "Installing collected packages: smart-open, Cython, gensim\n",
            "Successfully installed Cython-0.29.28 gensim-4.2.0 smart-open-6.0.0\n"
          ]
        },
        {
          "name": "stderr",
          "output_type": "stream",
          "text": [
            "[nltk_data] Downloading package punkt to\n",
            "[nltk_data]     C:\\Users\\Home\\AppData\\Roaming\\nltk_data...\n",
            "[nltk_data]   Unzipping tokenizers\\punkt.zip.\n",
            "[nltk_data] Downloading package wordnet to\n",
            "[nltk_data]     C:\\Users\\Home\\AppData\\Roaming\\nltk_data...\n",
            "[nltk_data]   Package wordnet is already up-to-date!\n"
          ]
        }
      ],
      "source": [
        "import numpy as np\n",
        "import pandas as pd\n",
        "import  seaborn as sns\n",
        "import matplotlib.pyplot as plt\n",
        "!pip install gensim\n",
        "import gensim\n",
        "import gensim.downloader as api\n",
        "from scipy import spatial\n",
        "import nltk\n",
        "nltk.download('punkt')\n",
        "from nltk.tokenize import word_tokenize\n",
        "nltk.download('wordnet')\n",
        "from nltk.stem import WordNetLemmatizer\n",
        "from nltk.corpus import stopwords\n",
        "from nltk.stem import SnowballStemmer\n",
        "import re\n",
        "from string import punctuation\n",
        "from sklearn import tree\n",
        "from sklearn.model_selection import train_test_split\n",
        "from sklearn.preprocessing import StandardScaler\n",
        "from sklearn.ensemble import AdaBoostClassifier\n",
        "from sklearn.tree import DecisionTreeClassifier\n",
        "from sklearn import metrics\n",
        "from sklearn.preprocessing import MinMaxScaler"
      ]
    },
    {
      "cell_type": "markdown",
      "metadata": {
        "id": "7guCXCvGLvB0"
      },
      "source": [
        "Load data set and print head"
      ]
    },
    {
      "cell_type": "code",
      "execution_count": null,
      "metadata": {
        "colab": {
          "base_uri": "https://localhost:8080/",
          "height": 224
        },
        "id": "ZT4z7nzIaG4z",
        "outputId": "6e022188-282f-4a33-ddd0-d17f764e2ca5"
      },
      "outputs": [
        {
          "name": "stdout",
          "output_type": "stream",
          "text": [
            "Number of data points: 404290\n"
          ]
        },
        {
          "data": {
            "text/html": [
              "<div>\n",
              "<style scoped>\n",
              "    .dataframe tbody tr th:only-of-type {\n",
              "        vertical-align: middle;\n",
              "    }\n",
              "\n",
              "    .dataframe tbody tr th {\n",
              "        vertical-align: top;\n",
              "    }\n",
              "\n",
              "    .dataframe thead th {\n",
              "        text-align: right;\n",
              "    }\n",
              "</style>\n",
              "<table border=\"1\" class=\"dataframe\">\n",
              "  <thead>\n",
              "    <tr style=\"text-align: right;\">\n",
              "      <th></th>\n",
              "      <th>id</th>\n",
              "      <th>qid1</th>\n",
              "      <th>qid2</th>\n",
              "      <th>question1</th>\n",
              "      <th>question2</th>\n",
              "      <th>is_duplicate</th>\n",
              "    </tr>\n",
              "  </thead>\n",
              "  <tbody>\n",
              "    <tr>\n",
              "      <th>0</th>\n",
              "      <td>0</td>\n",
              "      <td>1</td>\n",
              "      <td>2</td>\n",
              "      <td>What is the step by step guide to invest in sh...</td>\n",
              "      <td>What is the step by step guide to invest in sh...</td>\n",
              "      <td>0</td>\n",
              "    </tr>\n",
              "    <tr>\n",
              "      <th>1</th>\n",
              "      <td>1</td>\n",
              "      <td>3</td>\n",
              "      <td>4</td>\n",
              "      <td>What is the story of Kohinoor (Koh-i-Noor) Dia...</td>\n",
              "      <td>What would happen if the Indian government sto...</td>\n",
              "      <td>0</td>\n",
              "    </tr>\n",
              "    <tr>\n",
              "      <th>2</th>\n",
              "      <td>2</td>\n",
              "      <td>5</td>\n",
              "      <td>6</td>\n",
              "      <td>How can I increase the speed of my internet co...</td>\n",
              "      <td>How can Internet speed be increased by hacking...</td>\n",
              "      <td>0</td>\n",
              "    </tr>\n",
              "    <tr>\n",
              "      <th>3</th>\n",
              "      <td>3</td>\n",
              "      <td>7</td>\n",
              "      <td>8</td>\n",
              "      <td>Why am I mentally very lonely? How can I solve...</td>\n",
              "      <td>Find the remainder when [math]23^{24}[/math] i...</td>\n",
              "      <td>0</td>\n",
              "    </tr>\n",
              "    <tr>\n",
              "      <th>4</th>\n",
              "      <td>4</td>\n",
              "      <td>9</td>\n",
              "      <td>10</td>\n",
              "      <td>Which one dissolve in water quikly sugar, salt...</td>\n",
              "      <td>Which fish would survive in salt water?</td>\n",
              "      <td>0</td>\n",
              "    </tr>\n",
              "  </tbody>\n",
              "</table>\n",
              "</div>"
            ],
            "text/plain": [
              "   id  qid1  qid2                                          question1  \\\n",
              "0   0     1     2  What is the step by step guide to invest in sh...   \n",
              "1   1     3     4  What is the story of Kohinoor (Koh-i-Noor) Dia...   \n",
              "2   2     5     6  How can I increase the speed of my internet co...   \n",
              "3   3     7     8  Why am I mentally very lonely? How can I solve...   \n",
              "4   4     9    10  Which one dissolve in water quikly sugar, salt...   \n",
              "\n",
              "                                           question2  is_duplicate  \n",
              "0  What is the step by step guide to invest in sh...             0  \n",
              "1  What would happen if the Indian government sto...             0  \n",
              "2  How can Internet speed be increased by hacking...             0  \n",
              "3  Find the remainder when [math]23^{24}[/math] i...             0  \n",
              "4            Which fish would survive in salt water?             0  "
            ]
          },
          "execution_count": 6,
          "metadata": {},
          "output_type": "execute_result"
        }
      ],
      "source": [
        "data = pd.read_csv(\"train.csv\")\n",
        "\n",
        "print(\"Number of data points:\",data.shape[0])\n",
        "data.head()"
      ]
    },
    {
      "cell_type": "markdown",
      "metadata": {
        "id": "1qNMmbM-aNL_"
      },
      "source": [
        "display info of data"
      ]
    },
    {
      "cell_type": "code",
      "execution_count": null,
      "metadata": {
        "colab": {
          "base_uri": "https://localhost:8080/"
        },
        "id": "84Cm-t64aUB9",
        "outputId": "77c1979e-05e7-42f2-fe94-90360394554c"
      },
      "outputs": [
        {
          "name": "stdout",
          "output_type": "stream",
          "text": [
            "<class 'pandas.core.frame.DataFrame'>\n",
            "RangeIndex: 404290 entries, 0 to 404289\n",
            "Data columns (total 6 columns):\n",
            " #   Column        Non-Null Count   Dtype \n",
            "---  ------        --------------   ----- \n",
            " 0   id            404290 non-null  int64 \n",
            " 1   qid1          404290 non-null  int64 \n",
            " 2   qid2          404290 non-null  int64 \n",
            " 3   question1     404289 non-null  object\n",
            " 4   question2     404288 non-null  object\n",
            " 5   is_duplicate  404290 non-null  int64 \n",
            "dtypes: int64(4), object(2)\n",
            "memory usage: 18.5+ MB\n"
          ]
        }
      ],
      "source": [
        "data.info()"
      ]
    },
    {
      "cell_type": "markdown",
      "metadata": {
        "id": "9vuvrOBaacvF"
      },
      "source": [
        "**Visualization of data set**"
      ]
    },
    {
      "cell_type": "code",
      "execution_count": null,
      "metadata": {
        "colab": {
          "base_uri": "https://localhost:8080/",
          "height": 294
        },
        "id": "jOZbYSowaimw",
        "outputId": "fdcf4a30-0a97-462e-efc8-2defe32f5a6d"
      },
      "outputs": [
        {
          "data": {
            "text/plain": [
              "<matplotlib.axes._subplots.AxesSubplot at 0x7f905fea8ed0>"
            ]
          },
          "execution_count": 22,
          "metadata": {},
          "output_type": "execute_result"
        },
        {
          "data": {
            "image/png": "[encoded data removed]",
            "text/plain": [
              "<Figure size 432x288 with 1 Axes>"
            ]
          },
          "metadata": {
            "needs_background": "light"
          },
          "output_type": "display_data"
        }
      ],
      "source": [
        "data.groupby(\"is_duplicate\")['id'].count().plot.bar()"
      ]
    },
    {
      "cell_type": "code",
      "execution_count": null,
      "metadata": {
        "colab": {
          "base_uri": "https://localhost:8080/"
        },
        "id": "yaGPuM6AatRO",
        "outputId": "1e7e17fd-a9b0-40ed-c8ad-f3f372bc3121"
      },
      "outputs": [
        {
          "name": "stdout",
          "output_type": "stream",
          "text": [
            "Total number of  Unique Questions are: 537933\n",
            "\n",
            "Number of unique questions that appear more than one time: 111780 (20.77953945937505%)\n",
            "\n",
            "Max number of times a single question is repeated: 157\n",
            "\n"
          ]
        }
      ],
      "source": [
        "qs_series = pd.Series(data['qid1'].tolist() + data['qid2'].tolist())\n",
        "num_Unique_qs = len(np.unique(qs_series))\n",
        "qs_appear_morethan_onetime = np.sum(qs_series.value_counts() > 1)\n",
        "print ('Total number of  Unique Questions are: {}\\n'.format(num_Unique_qs))\n",
        "\n",
        "print ('Number of unique questions that appear more than one time: {} ({}%)\\n'.format(qs_appear_morethan_onetime,qs_appear_morethan_onetime/num_Unique_qs*100))\n",
        "\n",
        "print ('Max number of times a single question is repeated: {}\\n'.format(max(qs_series.value_counts()))) \n",
        "\n",
        "q_vals=qs_series.value_counts()\n",
        "\n",
        "q_vals=q_vals.values\n"
      ]
    },
    {
      "cell_type": "code",
      "execution_count": null,
      "metadata": {
        "colab": {
          "base_uri": "https://localhost:8080/",
          "height": 446
        },
        "id": "7cbtM1uta7X1",
        "outputId": "c5dbe45c-ea1d-42c8-b07f-106dc6fdb195"
      },
      "outputs": [
        {
          "name": "stderr",
          "output_type": "stream",
          "text": [
            "/usr/local/lib/python3.7/dist-packages/seaborn/_decorators.py:43: FutureWarning: Pass the following variables as keyword args: x, y. From version 0.12, the only valid positional argument will be `data`, and passing other arguments without an explicit keyword will result in an error or misinterpretation.\n",
            "  FutureWarning\n"
          ]
        },
        {
          "data": {
            "image/png": "[encoded data removed]",
            "text/plain": [
              "<Figure size 720x432 with 1 Axes>"
            ]
          },
          "metadata": {
            "needs_background": "light"
          },
          "output_type": "display_data"
        }
      ],
      "source": [
        "a = [\"unique_questions\" , \"Repeated Questions\"]\n",
        "b =  [num_Unique_qs , qs_appear_morethan_onetime]\n",
        "\n",
        "plt.figure(figsize=(10, 6))\n",
        "plt.title (\"Plot representing unique and repeated questions  \")\n",
        "sns.barplot(a,b)\n",
        "plt.show()"
      ]
    },
    {
      "cell_type": "markdown",
      "metadata": {
        "id": "ABlqVAR7bF8F"
      },
      "source": [
        "**Preprocessing**"
      ]
    },
    {
      "cell_type": "code",
      "execution_count": null,
      "metadata": {
        "colab": {
          "base_uri": "https://localhost:8080/",
          "height": 294
        },
        "id": "YIGBgFT0bFXd",
        "outputId": "17e2d38a-23cd-470c-e683-752dc7b2e7a5"
      },
      "outputs": [
        {
          "name": "stdout",
          "output_type": "stream",
          "text": [
            "id              0\n",
            "qid1            0\n",
            "qid2            0\n",
            "question1       0\n",
            "question2       0\n",
            "is_duplicate    0\n",
            "dtype: int64\n",
            "0\n"
          ]
        },
        {
          "data": {
            "text/plain": [
              "<matplotlib.axes._subplots.AxesSubplot at 0x7f905b44d350>"
            ]
          },
          "execution_count": 30,
          "metadata": {},
          "output_type": "execute_result"
        },
        {
          "data": {
            "image/png": "[encoded data removed]",
            "text/plain": [
              "<Figure size 3600x432 with 1 Axes>"
            ]
          },
          "metadata": {
            "needs_background": "light"
          },
          "output_type": "display_data"
        }
      ],
      "source": [
        "#check nulls\n",
        "data['question1'].fillna(\"\", inplace = True)\n",
        "data['question2'].fillna(\"\", inplace = True)\n",
        "print(data.isnull().sum())\n",
        "print(data.isnull().values.sum())\n",
        "f, ax = plt.subplots(figsize=(50, 6))\n",
        "sns.heatmap(data.isnull(),yticklabels=False,cbar=False,cmap=\"viridis\",ax=ax)"
      ]
    },
    {
      "cell_type": "code",
      "execution_count": null,
      "metadata": {
        "id": "DUcNq2n0cCFa"
      },
      "outputs": [],
      "source": [
        "def replace_abbreviation(sentence):\n",
        "  sentence = re.sub(r\"1st\", \"first\", sentence)\n",
        "  sentence = re.sub(r\"2nd\", \"second\", sentence)\n",
        "  sentence = re.sub(r\"3rd\", \"third\", sentence)\n",
        "  # sentence = re.sub(r'([0-9]+)k ', r'\\1000 ', sentence)\n",
        "  # sentence = re.sub(r'([0-9]+)m ', r'\\1000000 ', sentence)\n",
        "  # sentence = re.sub(r'([0-9]+)b ', r'\\1000000000 ', sentence)\n",
        "  sentence = re.sub(r'([0-9]+)y ', r'\\1 years ', sentence)\n",
        "  sentence = re.sub(r'([0-9]+)s ', r'\\1 seconds ', sentence)\n",
        "  sentence = re.sub(r\"what's\", \"\", sentence)\n",
        "  sentence = re.sub(r\"\\'s\", \" \", sentence)\n",
        "  sentence = re.sub(r\"\\'ve\", \" have \", sentence)\n",
        "  sentence = re.sub(r\"can't\", \"can not \", sentence)\n",
        "  sentence = re.sub(r\"n't\", \" not \", sentence)\n",
        "  sentence = re.sub(r\"i'm\", \"i am\", sentence)\n",
        "  sentence = re.sub(r\" m \", \" am \", sentence)\n",
        "  sentence = re.sub(r\"\\'re\", \" are \", sentence)\n",
        "  sentence = re.sub(r\"\\'d\", \" would \", sentence)\n",
        "  sentence = re.sub(r\"\\'ll\", \" will \", sentence)\n",
        "  sentence = re.sub(r\" e g \", \" eg \", sentence)\n",
        "  sentence = re.sub(r\" b g \", \" bg \", sentence)\n",
        "  sentence = re.sub(r\"\\0s\", \"0\", sentence)\n",
        "  sentence = re.sub(r\" 9 11 \", \"911\", sentence)\n",
        "  sentence = re.sub(r\"e-mail\", \"email\", sentence)\n",
        "  sentence = re.sub(r\"\\s{2,}\", \" \", sentence)\n",
        "  sentence = re.sub(r\"quikly\", \"quickly\", sentence)\n",
        "  sentence = re.sub(r\" usa \", \" america \", sentence)\n",
        "  sentence = re.sub(r\" u s \", \" america \", sentence)\n",
        "  sentence = re.sub(r\" uk \", \" england \", sentence)\n",
        "  sentence = re.sub(r\"imrovement\", \"improvement\", sentence)\n",
        "  sentence = re.sub(r\"intially\", \"initially\", sentence)\n",
        "  sentence = re.sub(r\" dms \", \"direct messages \", sentence)  \n",
        "  sentence = re.sub(r\"demonitization\", \"demonetization\", sentence) \n",
        "  sentence = re.sub(r\"actived\", \"active\", sentence)\n",
        "  sentence = re.sub(r\"kms\", \" kilometers \", sentence)\n",
        "  sentence = re.sub(r\" cs \", \" computer science \", sentence) \n",
        "  sentence = re.sub(r\" upvotes \", \" up votes \", sentence)\n",
        "  sentence = re.sub(r\" iphone \", \" phone \", sentence)\n",
        "  sentence = re.sub(r\"\\0rs \", \" rs \", sentence) \n",
        "  sentence = re.sub(r\"calender\", \"calendar\", sentence)\n",
        "  sentence = re.sub(r\"ios\", \"operating system\", sentence)\n",
        "  sentence = re.sub(r\"programing\", \"programming\", sentence)\n",
        "  sentence = re.sub(r\"bestfriend\", \"best friend\", sentence)\n",
        "  sentence = re.sub(r\"iii\", \"3\", sentence) \n",
        "  sentence = re.sub(r\"the us\", \"america\", sentence)\n",
        "  sentence = re.sub(r\" j k \", \" jk \", sentence)\n",
        "  sentence = re.sub(r\"[^A-Za-z0-9]\", \" \", sentence)\n",
        "\n",
        "  return sentence"
      ]
    },
    {
      "cell_type": "code",
      "execution_count": null,
      "metadata": {
        "id": "nFDJPU12HYGV"
      },
      "outputs": [],
      "source": [
        "def sentence_preprocess(sentence):\n",
        "  \n",
        "  # Change sentence to lowercase\n",
        "  sentence = sentence.lower()\n",
        "  # Replace abbreviations with its original \n",
        "  sentence = replace_abbreviation(sentence)\n",
        "\n",
        "  # # Remove punctuation\n",
        "  # for c in sentence:\n",
        "  #   if c in punctuation:\n",
        "  #     sentence = sentence.replace(c, \" \")\n",
        "  \n",
        "  # Tokenization\n",
        "  tokens = word_tokenize(sentence)\n",
        "\n",
        "  # Remove stop words\n",
        "  stop_words = ['the','a','an','and','but','if','or','because','as','what','which','this','that','these','those','then',\n",
        "              'just','so','than','such','both','through','about','for','is','of','while','during','to','What','Which',\n",
        "              'Is','If','While','This']\n",
        "  for token in list(tokens):\n",
        "    if token in stop_words:\n",
        "      tokens.remove(token)\n",
        "  # Snowball stemmer\n",
        "  lemmatizer=WordNetLemmatizer()\n",
        "\n",
        "\n",
        "  stemmer = SnowballStemmer('english')\n",
        "  tokens = [lemmatizer.lemmatize(token) for token in list(tokens)]\n",
        "\n",
        "  sentence = \"\"\n",
        "  for token in list(tokens):\n",
        "    sentence += token\n",
        "    sentence += \" \"\n",
        "  return sentence"
      ]
    },
    {
      "cell_type": "code",
      "execution_count": null,
      "metadata": {
        "colab": {
          "base_uri": "https://localhost:8080/"
        },
        "id": "CN42NxvkIBwK",
        "outputId": "5ba69c1d-7dd0-4055-a058-eb7ce93e91d5"
      },
      "outputs": [
        {
          "name": "stderr",
          "output_type": "stream",
          "text": [
            "/usr/local/lib/python3.7/dist-packages/ipykernel_launcher.py:2: SettingWithCopyWarning: \n",
            "A value is trying to be set on a copy of a slice from a DataFrame\n",
            "\n",
            "See the caveats in the documentation: https://pandas.pydata.org/pandas-docs/stable/user_guide/indexing.html#returning-a-view-versus-a-copy\n",
            "  \n",
            "/usr/local/lib/python3.7/dist-packages/ipykernel_launcher.py:3: SettingWithCopyWarning: \n",
            "A value is trying to be set on a copy of a slice from a DataFrame\n",
            "\n",
            "See the caveats in the documentation: https://pandas.pydata.org/pandas-docs/stable/user_guide/indexing.html#returning-a-view-versus-a-copy\n",
            "  This is separate from the ipykernel package so we can avoid doing imports until\n"
          ]
        }
      ],
      "source": [
        "for i in range(404290):\n",
        "  data['question1'][i] = sentence_preprocess(data['question1'][i])\n",
        "  data['question2'][i] = sentence_preprocess(data['question2'][i])"
      ]
    },
    {
      "cell_type": "code",
      "execution_count": null,
      "metadata": {
        "id": "qS19DydpILi7"
      },
      "outputs": [],
      "source": [
        "preprocessed_data = pd.DataFrame(data)\n",
        "preprocessed_data.to_csv('preprocessed Data.csv', index = False)"
      ]
    },
    {
      "cell_type": "code",
      "execution_count": null,
      "metadata": {
        "colab": {
          "base_uri": "https://localhost:8080/",
          "height": 206
        },
        "id": "X2mItozRIWYC",
        "outputId": "5cf85c6b-f1a0-4ebe-b9a2-c937f4a256aa"
      },
      "outputs": [
        {
          "data": {
            "text/html": [
              "\n",
              "  <div id=\"df-feeec67e-c7ee-4e62-94f0-f86464f2f29e\">\n",
              "    <div class=\"colab-df-container\">\n",
              "      <div>\n",
              "<style scoped>\n",
              "    .dataframe tbody tr th:only-of-type {\n",
              "        vertical-align: middle;\n",
              "    }\n",
              "\n",
              "    .dataframe tbody tr th {\n",
              "        vertical-align: top;\n",
              "    }\n",
              "\n",
              "    .dataframe thead th {\n",
              "        text-align: right;\n",
              "    }\n",
              "</style>\n",
              "<table border=\"1\" class=\"dataframe\">\n",
              "  <thead>\n",
              "    <tr style=\"text-align: right;\">\n",
              "      <th></th>\n",
              "      <th>id</th>\n",
              "      <th>qid1</th>\n",
              "      <th>qid2</th>\n",
              "      <th>question1</th>\n",
              "      <th>question2</th>\n",
              "      <th>is_duplicate</th>\n",
              "    </tr>\n",
              "  </thead>\n",
              "  <tbody>\n",
              "    <tr>\n",
              "      <th>0</th>\n",
              "      <td>0</td>\n",
              "      <td>1</td>\n",
              "      <td>2</td>\n",
              "      <td>step by step guide invest in share market in i...</td>\n",
              "      <td>step by step guide invest in share market</td>\n",
              "      <td>0</td>\n",
              "    </tr>\n",
              "    <tr>\n",
              "      <th>1</th>\n",
              "      <td>1</td>\n",
              "      <td>3</td>\n",
              "      <td>4</td>\n",
              "      <td>story kohinoor koh i noor diamond</td>\n",
              "      <td>would happen indian government stole kohinoor ...</td>\n",
              "      <td>0</td>\n",
              "    </tr>\n",
              "    <tr>\n",
              "      <th>2</th>\n",
              "      <td>2</td>\n",
              "      <td>5</td>\n",
              "      <td>6</td>\n",
              "      <td>how can i increase speed my internet connectio...</td>\n",
              "      <td>how can internet speed be increased by hacking...</td>\n",
              "      <td>0</td>\n",
              "    </tr>\n",
              "    <tr>\n",
              "      <th>3</th>\n",
              "      <td>3</td>\n",
              "      <td>7</td>\n",
              "      <td>8</td>\n",
              "      <td>why am i mentally very lonely how can i solve it</td>\n",
              "      <td>find remainder when math 23 24 math divided by...</td>\n",
              "      <td>0</td>\n",
              "    </tr>\n",
              "    <tr>\n",
              "      <th>4</th>\n",
              "      <td>4</td>\n",
              "      <td>9</td>\n",
              "      <td>10</td>\n",
              "      <td>one dissolve in water quickly sugar salt metha...</td>\n",
              "      <td>fish would survive in salt water</td>\n",
              "      <td>0</td>\n",
              "    </tr>\n",
              "  </tbody>\n",
              "</table>\n",
              "</div>\n",
              "      <button class=\"colab-df-convert\" onclick=\"convertToInteractive('df-feeec67e-c7ee-4e62-94f0-f86464f2f29e')\"\n",
              "              title=\"Convert this dataframe to an interactive table.\"\n",
              "              style=\"display:none;\">\n",
              "        \n",
              "  <svg xmlns=\"http://www.w3.org/2000/svg\" height=\"24px\"viewBox=\"0 0 24 24\"\n",
              "       width=\"24px\">\n",
              "    <path d=\"M0 0h24v24H0V0z\" fill=\"none\"/>\n",
              "    <path d=\"M18.56 5.44l.94 2.06.94-2.06 2.06-.94-2.06-.94-.94-2.06-.94 2.06-2.06.94zm-11 1L8.5 8.5l.94-2.06 2.06-.94-2.06-.94L8.5 2.5l-.94 2.06-2.06.94zm10 10l.94 2.06.94-2.06 2.06-.94-2.06-.94-.94-2.06-.94 2.06-2.06.94z\"/><path d=\"M17.41 7.96l-1.37-1.37c-.4-.4-.92-.59-1.43-.59-.52 0-1.04.2-1.43.59L10.3 9.45l-7.72 7.72c-.78.78-.78 2.05 0 2.83L4 21.41c.39.39.9.59 1.41.59.51 0 1.02-.2 1.41-.59l7.78-7.78 2.81-2.81c.8-.78.8-2.07 0-2.86zM5.41 20L4 18.59l7.72-7.72 1.47 1.35L5.41 20z\"/>\n",
              "  </svg>\n",
              "      </button>\n",
              "      \n",
              "  <style>\n",
              "    .colab-df-container {\n",
              "      display:flex;\n",
              "      flex-wrap:wrap;\n",
              "      gap: 12px;\n",
              "    }\n",
              "\n",
              "    .colab-df-convert {\n",
              "      background-color: #E8F0FE;\n",
              "      border: none;\n",
              "      border-radius: 50%;\n",
              "      cursor: pointer;\n",
              "      display: none;\n",
              "      fill: #1967D2;\n",
              "      height: 32px;\n",
              "      padding: 0 0 0 0;\n",
              "      width: 32px;\n",
              "    }\n",
              "\n",
              "    .colab-df-convert:hover {\n",
              "      background-color: #E2EBFA;\n",
              "      box-shadow: 0px 1px 2px rgba(60, 64, 67, 0.3), 0px 1px 3px 1px rgba(60, 64, 67, 0.15);\n",
              "      fill: #174EA6;\n",
              "    }\n",
              "\n",
              "    [theme=dark] .colab-df-convert {\n",
              "      background-color: #3B4455;\n",
              "      fill: #D2E3FC;\n",
              "    }\n",
              "\n",
              "    [theme=dark] .colab-df-convert:hover {\n",
              "      background-color: #434B5C;\n",
              "      box-shadow: 0px 1px 3px 1px rgba(0, 0, 0, 0.15);\n",
              "      filter: drop-shadow(0px 1px 2px rgba(0, 0, 0, 0.3));\n",
              "      fill: #FFFFFF;\n",
              "    }\n",
              "  </style>\n",
              "\n",
              "      <script>\n",
              "        const buttonEl =\n",
              "          document.querySelector('#df-feeec67e-c7ee-4e62-94f0-f86464f2f29e button.colab-df-convert');\n",
              "        buttonEl.style.display =\n",
              "          google.colab.kernel.accessAllowed ? 'block' : 'none';\n",
              "\n",
              "        async function convertToInteractive(key) {\n",
              "          const element = document.querySelector('#df-feeec67e-c7ee-4e62-94f0-f86464f2f29e');\n",
              "          const dataTable =\n",
              "            await google.colab.kernel.invokeFunction('convertToInteractive',\n",
              "                                                     [key], {});\n",
              "          if (!dataTable) return;\n",
              "\n",
              "          const docLinkHtml = 'Like what you see? Visit the ' +\n",
              "            '<a target=\"_blank\" href=https://colab.research.google.com/notebooks/data_table.ipynb>data table notebook</a>'\n",
              "            + ' to learn more about interactive tables.';\n",
              "          element.innerHTML = '';\n",
              "          dataTable['output_type'] = 'display_data';\n",
              "          await google.colab.output.renderOutput(dataTable, element);\n",
              "          const docLink = document.createElement('div');\n",
              "          docLink.innerHTML = docLinkHtml;\n",
              "          element.appendChild(docLink);\n",
              "        }\n",
              "      </script>\n",
              "    </div>\n",
              "  </div>\n",
              "  "
            ],
            "text/plain": [
              "   id  qid1  qid2                                          question1  \\\n",
              "0   0     1     2  step by step guide invest in share market in i...   \n",
              "1   1     3     4                 story kohinoor koh i noor diamond    \n",
              "2   2     5     6  how can i increase speed my internet connectio...   \n",
              "3   3     7     8  why am i mentally very lonely how can i solve it    \n",
              "4   4     9    10  one dissolve in water quickly sugar salt metha...   \n",
              "\n",
              "                                           question2  is_duplicate  \n",
              "0         step by step guide invest in share market              0  \n",
              "1  would happen indian government stole kohinoor ...             0  \n",
              "2  how can internet speed be increased by hacking...             0  \n",
              "3  find remainder when math 23 24 math divided by...             0  \n",
              "4                  fish would survive in salt water              0  "
            ]
          },
          "execution_count": 94,
          "metadata": {},
          "output_type": "execute_result"
        }
      ],
      "source": [
        "preprocessed_data.head()"
      ]
    },
    {
      "cell_type": "markdown",
      "metadata": {
        "id": "jalYlig-7i-h"
      },
      "source": [
        "Feature extraction after preprocessing"
      ]
    },
    {
      "cell_type": "code",
      "execution_count": null,
      "metadata": {
        "colab": {
          "base_uri": "https://localhost:8080/",
          "height": 206
        },
        "id": "NUJ-a0zkLqr6",
        "outputId": "9d2be2b2-0f18-4298-9055-dabcdf6eeaaf"
      },
      "outputs": [
        {
          "data": {
            "text/html": [
              "<div>\n",
              "<style scoped>\n",
              "    .dataframe tbody tr th:only-of-type {\n",
              "        vertical-align: middle;\n",
              "    }\n",
              "\n",
              "    .dataframe tbody tr th {\n",
              "        vertical-align: top;\n",
              "    }\n",
              "\n",
              "    .dataframe thead th {\n",
              "        text-align: right;\n",
              "    }\n",
              "</style>\n",
              "<table border=\"1\" class=\"dataframe\">\n",
              "  <thead>\n",
              "    <tr style=\"text-align: right;\">\n",
              "      <th></th>\n",
              "      <th>id</th>\n",
              "      <th>qid1</th>\n",
              "      <th>qid2</th>\n",
              "      <th>question1</th>\n",
              "      <th>question2</th>\n",
              "      <th>is_duplicate</th>\n",
              "    </tr>\n",
              "  </thead>\n",
              "  <tbody>\n",
              "    <tr>\n",
              "      <th>0</th>\n",
              "      <td>0</td>\n",
              "      <td>1</td>\n",
              "      <td>2</td>\n",
              "      <td>step by step guide invest in share market in i...</td>\n",
              "      <td>step by step guide invest in share market</td>\n",
              "      <td>0</td>\n",
              "    </tr>\n",
              "    <tr>\n",
              "      <th>1</th>\n",
              "      <td>1</td>\n",
              "      <td>3</td>\n",
              "      <td>4</td>\n",
              "      <td>story kohinoor koh i noor diamond</td>\n",
              "      <td>would happen indian government stole kohinoor ...</td>\n",
              "      <td>0</td>\n",
              "    </tr>\n",
              "    <tr>\n",
              "      <th>2</th>\n",
              "      <td>2</td>\n",
              "      <td>5</td>\n",
              "      <td>6</td>\n",
              "      <td>how can i increase speed my internet connectio...</td>\n",
              "      <td>how can internet speed be increased by hacking...</td>\n",
              "      <td>0</td>\n",
              "    </tr>\n",
              "    <tr>\n",
              "      <th>3</th>\n",
              "      <td>3</td>\n",
              "      <td>7</td>\n",
              "      <td>8</td>\n",
              "      <td>why am i mentally very lonely how can i solve it</td>\n",
              "      <td>find remainder when math 23 24 math divided by...</td>\n",
              "      <td>0</td>\n",
              "    </tr>\n",
              "    <tr>\n",
              "      <th>4</th>\n",
              "      <td>4</td>\n",
              "      <td>9</td>\n",
              "      <td>10</td>\n",
              "      <td>one dissolve in water quickly sugar salt metha...</td>\n",
              "      <td>fish would survive in salt water</td>\n",
              "      <td>0</td>\n",
              "    </tr>\n",
              "  </tbody>\n",
              "</table>\n",
              "</div>"
            ],
            "text/plain": [
              "   id  qid1  qid2                                          question1  \\\n",
              "0   0     1     2  step by step guide invest in share market in i...   \n",
              "1   1     3     4                 story kohinoor koh i noor diamond    \n",
              "2   2     5     6  how can i increase speed my internet connectio...   \n",
              "3   3     7     8  why am i mentally very lonely how can i solve it    \n",
              "4   4     9    10  one dissolve in water quickly sugar salt metha...   \n",
              "\n",
              "                                           question2  is_duplicate  \n",
              "0         step by step guide invest in share market              0  \n",
              "1  would happen indian government stole kohinoor ...             0  \n",
              "2  how can internet speed be increased by hacking...             0  \n",
              "3  find remainder when math 23 24 math divided by...             0  \n",
              "4                  fish would survive in salt water              0  "
            ]
          },
          "execution_count": 7,
          "metadata": {},
          "output_type": "execute_result"
        }
      ],
      "source": [
        "new_data=pd.read_csv(\"preprocessed Data.csv\")\n",
        "new_data.head()"
      ]
    },
    {
      "cell_type": "code",
      "execution_count": null,
      "metadata": {
        "id": "tOo_VoKF7i-i",
        "outputId": "a6d5f02e-17af-47e8-f262-fa47756be3c0"
      },
      "outputs": [
        {
          "name": "stdout",
          "output_type": "stream",
          "text": [
            "0\n"
          ]
        }
      ],
      "source": [
        "new_data.fillna(\" \", inplace = True)\n",
        "print(new_data.isnull().values.sum())"
      ]
    },
    {
      "cell_type": "code",
      "execution_count": null,
      "metadata": {
        "colab": {
          "base_uri": "https://localhost:8080/"
        },
        "id": "XZtYIAF6aSwX",
        "outputId": "a3e59a4d-ea15-42a9-a8fe-d771f0295504"
      },
      "outputs": [
        {
          "data": {
            "text/plain": [
              "537933"
            ]
          },
          "execution_count": 9,
          "metadata": {},
          "output_type": "execute_result"
        }
      ],
      "source": [
        "#get unique qids after preprocessing\n",
        "qids = pd.Series(new_data['qid1'].tolist() + new_data['qid2'].to_list())\n",
        "len_unique_qs = len(np.unique(qids))\n",
        "unique_qs=np.unique(qids)\n",
        "len_unique_qs"
      ]
    },
    {
      "cell_type": "code",
      "execution_count": null,
      "metadata": {
        "colab": {
          "base_uri": "https://localhost:8080/",
          "height": 206
        },
        "id": "tbNvxTa9nWbn",
        "outputId": "46d35248-6abf-4806-857a-0113b1cfacac"
      },
      "outputs": [
        {
          "data": {
            "text/html": [
              "<div>\n",
              "<style scoped>\n",
              "    .dataframe tbody tr th:only-of-type {\n",
              "        vertical-align: middle;\n",
              "    }\n",
              "\n",
              "    .dataframe tbody tr th {\n",
              "        vertical-align: top;\n",
              "    }\n",
              "\n",
              "    .dataframe thead th {\n",
              "        text-align: right;\n",
              "    }\n",
              "</style>\n",
              "<table border=\"1\" class=\"dataframe\">\n",
              "  <thead>\n",
              "    <tr style=\"text-align: right;\">\n",
              "      <th></th>\n",
              "      <th>id</th>\n",
              "      <th>sentence</th>\n",
              "    </tr>\n",
              "  </thead>\n",
              "  <tbody>\n",
              "    <tr>\n",
              "      <th>0</th>\n",
              "      <td>1</td>\n",
              "      <td>step by step guide invest in share market in i...</td>\n",
              "    </tr>\n",
              "    <tr>\n",
              "      <th>1</th>\n",
              "      <td>3</td>\n",
              "      <td>story kohinoor koh i noor diamond</td>\n",
              "    </tr>\n",
              "    <tr>\n",
              "      <th>2</th>\n",
              "      <td>5</td>\n",
              "      <td>how can i increase speed my internet connectio...</td>\n",
              "    </tr>\n",
              "    <tr>\n",
              "      <th>3</th>\n",
              "      <td>7</td>\n",
              "      <td>why am i mentally very lonely how can i solve it</td>\n",
              "    </tr>\n",
              "    <tr>\n",
              "      <th>4</th>\n",
              "      <td>9</td>\n",
              "      <td>one dissolve in water quickly sugar salt metha...</td>\n",
              "    </tr>\n",
              "  </tbody>\n",
              "</table>\n",
              "</div>"
            ],
            "text/plain": [
              "   id                                           sentence\n",
              "0   1  step by step guide invest in share market in i...\n",
              "1   3                 story kohinoor koh i noor diamond \n",
              "2   5  how can i increase speed my internet connectio...\n",
              "3   7  why am i mentally very lonely how can i solve it \n",
              "4   9  one dissolve in water quickly sugar salt metha..."
            ]
          },
          "execution_count": 10,
          "metadata": {},
          "output_type": "execute_result"
        }
      ],
      "source": [
        "#get unique id with its questions\n",
        "q1=new_data.drop([\"qid2\",\"id\",\"is_duplicate\",\"question2\"],axis=1)\n",
        "q1.drop_duplicates(inplace=True)\n",
        "q1.rename(columns = {'qid1':'id','question1':'sentence'}, inplace = True)\n",
        "\n",
        "q2=new_data.drop([\"qid1\",\"id\",\"is_duplicate\",\"question1\"],axis=1)\n",
        "q2.drop_duplicates(inplace=True)\n",
        "q2.rename(columns = {'qid2':'id','question2':'sentence'}, inplace = True)\n",
        "\n",
        "questions=q1.append(q2)\n",
        "questions.drop_duplicates(inplace=True)\n",
        "questions.head()"
      ]
    },
    {
      "cell_type": "code",
      "execution_count": null,
      "metadata": {
        "id": "yGuKlywTCPGQ"
      },
      "outputs": [],
      "source": [
        "#toknize unique questions to use it in model\n",
        "list_of_sentences=questions['sentence'].tolist()\n",
        "tags=questions[\"id\"].tolist()\n",
        "list_of_toknized=[]\n",
        "\n",
        "for i,item in enumerate(list_of_sentences):   \n",
        "     list_of_toknized.append(list((word_tokenize(item))))"
      ]
    },
    {
      "cell_type": "markdown",
      "metadata": {
        "id": "QH3jgOSpZbpE"
      },
      "source": [
        "**Use Doc2vec model to get similarity vector for each quetions**\n",
        "\n",
        "\n",
        "* Note:doc2vec work like word2vec but it take sentences or paragraph instead of words\n",
        "\n",
        "\n"
      ]
    },
    {
      "cell_type": "code",
      "execution_count": null,
      "metadata": {
        "id": "TbJvl8UHZG_w"
      },
      "outputs": [],
      "source": [
        "def tagged_document(list_of_list_of_words,IDs):\n",
        "   for i, list_of_words in enumerate(list_of_list_of_words):\n",
        "      yield gensim.models.doc2vec.TaggedDocument(list_of_words, [IDs[i]])\n",
        "      \n",
        "data_for_training = list(tagged_document(list_of_toknized,tags))      "
      ]
    },
    {
      "cell_type": "code",
      "execution_count": null,
      "metadata": {
        "colab": {
          "base_uri": "https://localhost:8080/"
        },
        "id": "OSBZHt71fQvX",
        "outputId": "63a519ef-5119-4f7e-d8f5-5c9d7a862afa"
      },
      "outputs": [
        {
          "name": "stdout",
          "output_type": "stream",
          "text": [
            "[TaggedDocument(words=['step', 'by', 'step', 'guide', 'invest', 'in', 'share', 'market', 'in', 'india'], tags=[1])]\n"
          ]
        }
      ],
      "source": [
        "print(data_for_training[:1])"
      ]
    },
    {
      "cell_type": "code",
      "execution_count": null,
      "metadata": {
        "colab": {
          "base_uri": "https://localhost:8080/"
        },
        "id": "dFGTPeOoy7sE",
        "outputId": "c20ff4f9-d12e-4fc9-f589-b51484de4575"
      },
      "outputs": [
        {
          "name": "stderr",
          "output_type": "stream",
          "text": [
            "C:\\Users\\Home\\AppData\\Local\\Temp\\ipykernel_9168\\976694921.py:4: DeprecationWarning: Call to deprecated `docvecs` (The `docvecs` property has been renamed `dv`.).\n",
            "  model.docvecs[1]\n"
          ]
        },
        {
          "data": {
            "text/plain": [
              "array([ 0.07896803,  0.18069178,  0.3792438 ,  0.07841805, -0.39544594,\n",
              "       -0.2632719 ,  0.00163435,  0.23615171, -0.1349007 ,  0.4297897 ,\n",
              "        0.14795719,  0.20966345,  0.03437318,  0.24117179,  0.1036299 ,\n",
              "       -0.21856555, -0.2235318 ,  0.17934714, -0.06846726, -0.1586102 ,\n",
              "        0.10167263,  0.1050813 ,  0.4624268 ,  0.13432328,  0.22248732,\n",
              "       -0.14885983,  0.04906604, -0.16424249, -0.28539926, -0.1300657 ,\n",
              "        0.07496606, -0.32094488,  0.21149059,  0.0807754 ,  0.07699236,\n",
              "        0.06865352,  0.16819929, -0.32320386, -0.11470935, -0.05469933,\n",
              "        0.23345977,  0.08360439, -0.37206566, -0.02951398, -0.35933644,\n",
              "       -0.26181346, -0.24260317,  0.04034615, -0.03042798,  0.33221734,\n",
              "       -0.30698875,  0.11991305, -0.04144036,  0.24557762,  0.19196388,\n",
              "        0.21885742,  0.02858871, -0.1885479 ,  0.27205813,  0.07080574],\n",
              "      dtype=float32)"
            ]
          },
          "execution_count": 15,
          "metadata": {},
          "output_type": "execute_result"
        }
      ],
      "source": [
        "model = gensim.models.doc2vec.Doc2Vec(vector_size=60, min_count=1,epochs=30)\n",
        "model.build_vocab(data_for_training)\n",
        "model.train(data_for_training, total_examples=model.corpus_count, epochs=model.epochs)\n",
        "model.docvecs[1]"
      ]
    },
    {
      "cell_type": "code",
      "execution_count": null,
      "metadata": {
        "id": "GunVik4RBOqp"
      },
      "outputs": [],
      "source": [
        "cosine_similarity=[]\n",
        "def get_cosine_similarity(row):\n",
        "    #print(row[\"qid1\"])\n",
        "    sentence1_vec=model.docvecs[row[\"qid1\"]]\n",
        "    sentence2_vec=model.docvecs[row[\"qid2\"]]\n",
        "    return 1 - spatial.distance.cosine(sentence1_vec, sentence2_vec)"
      ]
    },
    {
      "cell_type": "code",
      "execution_count": null,
      "metadata": {
        "id": "WBsF0Cc-IfrG",
        "outputId": "15341ffe-4ad1-4ade-8e09-12a69040956a"
      },
      "outputs": [
        {
          "name": "stderr",
          "output_type": "stream",
          "text": [
            "C:\\Users\\Home\\AppData\\Local\\Temp\\ipykernel_9168\\2670672972.py:4: DeprecationWarning: Call to deprecated `docvecs` (The `docvecs` property has been renamed `dv`.).\n",
            "  sentence1_vec=model.docvecs[row[\"qid1\"]]\n",
            "C:\\Users\\Home\\AppData\\Local\\Temp\\ipykernel_9168\\2670672972.py:5: DeprecationWarning: Call to deprecated `docvecs` (The `docvecs` property has been renamed `dv`.).\n",
            "  sentence2_vec=model.docvecs[row[\"qid2\"]]\n"
          ]
        }
      ],
      "source": [
        "new_data[\"cosine_similarity\"]=new_data.apply(get_cosine_similarity,axis=1)"
      ]
    },
    {
      "cell_type": "code",
      "execution_count": null,
      "metadata": {
        "id": "f28kxt2yIw4d"
      },
      "outputs": [],
      "source": [
        "def common_words_ratio(row):\n",
        "    w1 = set(map(lambda word: word.lower().strip(), row['question1'].split(\" \")))\n",
        "    w2 = set(map(lambda word: word.lower().strip(), row['question2'].split(\" \")))\n",
        "    m=len(w1)+len(w2)    \n",
        "    return (len(w1 & w2))/m"
      ]
    },
    {
      "cell_type": "code",
      "execution_count": null,
      "metadata": {
        "id": "UdoHLKimJOEc"
      },
      "outputs": [],
      "source": [
        "new_data[\"word_share\"]=new_data.apply(common_words_ratio,axis=1)"
      ]
    },
    {
      "cell_type": "code",
      "execution_count": null,
      "metadata": {
        "id": "Th7EKB7aMokV"
      },
      "outputs": [],
      "source": [
        "\n",
        "def fetch_token_features(row):\n",
        "    \n",
        "    q1 = row['question1']\n",
        "    q2 = row['question2']\n",
        "    \n",
        "    SAFE_DIV = 0.0001 \n",
        " \n",
        "    token_features = [0.0]*8\n",
        "    \n",
        "    # Converting the Sentence into Tokens: \n",
        "    q1_tokens = q1.split()\n",
        "    q2_tokens = q2.split()\n",
        "    \n",
        "    if len(q1_tokens) == 0 or len(q2_tokens) == 0:\n",
        "        return token_features\n",
        "\n",
        "    # Get the common Tokens from Question pair\n",
        "    common_token_count = len(set(q1_tokens).intersection(set(q2_tokens)))\n",
        "    \n",
        "    \n",
        "    token_features[0] = common_token_count / (min(len(q1_tokens), len(q2_tokens)) + SAFE_DIV)\n",
        "    token_features[1] = common_token_count / (max(len(q1_tokens), len(q2_tokens)) + SAFE_DIV)\n",
        "   \n",
        "    # Last word of both question is same or not\n",
        "    token_features[2] = int(q1_tokens[-1] == q2_tokens[-1])\n",
        "    \n",
        "    # First word of both question is same or not\n",
        "    token_features[3] = int(q1_tokens[0] == q2_tokens[0])\n",
        "\n",
        "    \n",
        "    \n",
        "\n",
        "    return token_features"
      ]
    },
    {
      "cell_type": "code",
      "execution_count": null,
      "metadata": {
        "id": "JiWJbrxANdBU"
      },
      "outputs": [],
      "source": [
        "token_features = new_data.apply(fetch_token_features, axis=1)\n",
        "\n",
        "new_data[\"cwc_min\"]       = list(map(lambda x: x[0], token_features))\n",
        "new_data[\"cwc_max\"]       = list(map(lambda x: x[1], token_features))\n",
        "new_data[\"last_word_eq\"]  = list(map(lambda x: x[2], token_features))\n",
        "new_data[\"first_word_eq\"] = list(map(lambda x: x[3], token_features))\n"
      ]
    },
    {
      "cell_type": "code",
      "execution_count": null,
      "metadata": {
        "id": "ThC0lDbf7i-n"
      },
      "outputs": [],
      "source": [
        "new_data['q1_freq']=new_data.groupby('qid1')['qid1'].transform('count')\n",
        "new_data['q2_freq']=new_data.groupby('qid2')['qid2'].transform('count')"
      ]
    },
    {
      "cell_type": "code",
      "execution_count": null,
      "metadata": {
        "colab": {
          "base_uri": "https://localhost:8080/",
          "height": 1000
        },
        "id": "LKxxa334qzCq",
        "outputId": "2f046c56-a99b-457d-bdcf-a30dfcf016c7"
      },
      "outputs": [
        {
          "data": {
            "text/html": [
              "<div>\n",
              "<style scoped>\n",
              "    .dataframe tbody tr th:only-of-type {\n",
              "        vertical-align: middle;\n",
              "    }\n",
              "\n",
              "    .dataframe tbody tr th {\n",
              "        vertical-align: top;\n",
              "    }\n",
              "\n",
              "    .dataframe thead th {\n",
              "        text-align: right;\n",
              "    }\n",
              "</style>\n",
              "<table border=\"1\" class=\"dataframe\">\n",
              "  <thead>\n",
              "    <tr style=\"text-align: right;\">\n",
              "      <th></th>\n",
              "      <th>id</th>\n",
              "      <th>qid1</th>\n",
              "      <th>qid2</th>\n",
              "      <th>question1</th>\n",
              "      <th>question2</th>\n",
              "      <th>is_duplicate</th>\n",
              "      <th>cosine_similarity</th>\n",
              "      <th>word_share</th>\n",
              "      <th>cwc_min</th>\n",
              "      <th>cwc_max</th>\n",
              "      <th>last_word_eq</th>\n",
              "      <th>first_word_eq</th>\n",
              "      <th>abs_len_diff</th>\n",
              "      <th>mean_len</th>\n",
              "      <th>word_common</th>\n",
              "      <th>word_total</th>\n",
              "      <th>q1_freq</th>\n",
              "      <th>q2_freq</th>\n",
              "    </tr>\n",
              "  </thead>\n",
              "  <tbody>\n",
              "    <tr>\n",
              "      <th>0</th>\n",
              "      <td>0</td>\n",
              "      <td>1</td>\n",
              "      <td>2</td>\n",
              "      <td>step by step guide invest in share market in i...</td>\n",
              "      <td>step by step guide invest in share market</td>\n",
              "      <td>0</td>\n",
              "      <td>0.961292</td>\n",
              "      <td>0.470588</td>\n",
              "      <td>0.874989</td>\n",
              "      <td>0.699993</td>\n",
              "      <td>0.0</td>\n",
              "      <td>1.0</td>\n",
              "      <td>2.0</td>\n",
              "      <td>9.0</td>\n",
              "      <td>7.0</td>\n",
              "      <td>18.0</td>\n",
              "      <td>1</td>\n",
              "      <td>1</td>\n",
              "    </tr>\n",
              "    <tr>\n",
              "      <th>1</th>\n",
              "      <td>1</td>\n",
              "      <td>3</td>\n",
              "      <td>4</td>\n",
              "      <td>story kohinoor koh i noor diamond</td>\n",
              "      <td>would happen indian government stole kohinoor ...</td>\n",
              "      <td>0</td>\n",
              "      <td>0.504665</td>\n",
              "      <td>0.315789</td>\n",
              "      <td>0.833319</td>\n",
              "      <td>0.454541</td>\n",
              "      <td>0.0</td>\n",
              "      <td>0.0</td>\n",
              "      <td>5.0</td>\n",
              "      <td>8.5</td>\n",
              "      <td>5.0</td>\n",
              "      <td>17.0</td>\n",
              "      <td>4</td>\n",
              "      <td>1</td>\n",
              "    </tr>\n",
              "    <tr>\n",
              "      <th>2</th>\n",
              "      <td>2</td>\n",
              "      <td>5</td>\n",
              "      <td>6</td>\n",
              "      <td>how can i increase speed my internet connectio...</td>\n",
              "      <td>how can internet speed be increased by hacking...</td>\n",
              "      <td>0</td>\n",
              "      <td>0.305122</td>\n",
              "      <td>0.238095</td>\n",
              "      <td>0.444440</td>\n",
              "      <td>0.399996</td>\n",
              "      <td>0.0</td>\n",
              "      <td>1.0</td>\n",
              "      <td>1.0</td>\n",
              "      <td>9.5</td>\n",
              "      <td>4.0</td>\n",
              "      <td>19.0</td>\n",
              "      <td>1</td>\n",
              "      <td>1</td>\n",
              "    </tr>\n",
              "    <tr>\n",
              "      <th>3</th>\n",
              "      <td>3</td>\n",
              "      <td>7</td>\n",
              "      <td>8</td>\n",
              "      <td>why am i mentally very lonely how can i solve it</td>\n",
              "      <td>find remainder when math 23 24 math divided by...</td>\n",
              "      <td>0</td>\n",
              "      <td>0.446903</td>\n",
              "      <td>0.050000</td>\n",
              "      <td>0.000000</td>\n",
              "      <td>0.000000</td>\n",
              "      <td>0.0</td>\n",
              "      <td>0.0</td>\n",
              "      <td>0.0</td>\n",
              "      <td>11.0</td>\n",
              "      <td>0.0</td>\n",
              "      <td>22.0</td>\n",
              "      <td>1</td>\n",
              "      <td>1</td>\n",
              "    </tr>\n",
              "    <tr>\n",
              "      <th>4</th>\n",
              "      <td>4</td>\n",
              "      <td>9</td>\n",
              "      <td>10</td>\n",
              "      <td>one dissolve in water quickly sugar salt metha...</td>\n",
              "      <td>fish would survive in salt water</td>\n",
              "      <td>0</td>\n",
              "      <td>0.378238</td>\n",
              "      <td>0.210526</td>\n",
              "      <td>0.499992</td>\n",
              "      <td>0.272725</td>\n",
              "      <td>0.0</td>\n",
              "      <td>0.0</td>\n",
              "      <td>5.0</td>\n",
              "      <td>8.5</td>\n",
              "      <td>3.0</td>\n",
              "      <td>17.0</td>\n",
              "      <td>3</td>\n",
              "      <td>1</td>\n",
              "    </tr>\n",
              "    <tr>\n",
              "      <th>5</th>\n",
              "      <td>5</td>\n",
              "      <td>11</td>\n",
              "      <td>12</td>\n",
              "      <td>astrology i am capricorn sun cap moon cap risi...</td>\n",
              "      <td>i am triple capricorn sun moon ascendant in ca...</td>\n",
              "      <td>1</td>\n",
              "      <td>0.770365</td>\n",
              "      <td>0.375000</td>\n",
              "      <td>0.666661</td>\n",
              "      <td>0.666661</td>\n",
              "      <td>1.0</td>\n",
              "      <td>0.0</td>\n",
              "      <td>0.0</td>\n",
              "      <td>12.0</td>\n",
              "      <td>8.0</td>\n",
              "      <td>24.0</td>\n",
              "      <td>1</td>\n",
              "      <td>1</td>\n",
              "    </tr>\n",
              "    <tr>\n",
              "      <th>6</th>\n",
              "      <td>6</td>\n",
              "      <td>13</td>\n",
              "      <td>14</td>\n",
              "      <td>should i buy tiago</td>\n",
              "      <td>keep childern active far from phone video game</td>\n",
              "      <td>0</td>\n",
              "      <td>0.414605</td>\n",
              "      <td>0.071429</td>\n",
              "      <td>0.000000</td>\n",
              "      <td>0.000000</td>\n",
              "      <td>0.0</td>\n",
              "      <td>0.0</td>\n",
              "      <td>4.0</td>\n",
              "      <td>6.0</td>\n",
              "      <td>0.0</td>\n",
              "      <td>12.0</td>\n",
              "      <td>1</td>\n",
              "      <td>1</td>\n",
              "    </tr>\n",
              "    <tr>\n",
              "      <th>7</th>\n",
              "      <td>7</td>\n",
              "      <td>15</td>\n",
              "      <td>16</td>\n",
              "      <td>how can i be good geologist</td>\n",
              "      <td>should i do be great geologist</td>\n",
              "      <td>1</td>\n",
              "      <td>0.759090</td>\n",
              "      <td>0.285714</td>\n",
              "      <td>0.499992</td>\n",
              "      <td>0.499992</td>\n",
              "      <td>1.0</td>\n",
              "      <td>0.0</td>\n",
              "      <td>0.0</td>\n",
              "      <td>6.0</td>\n",
              "      <td>3.0</td>\n",
              "      <td>12.0</td>\n",
              "      <td>1</td>\n",
              "      <td>1</td>\n",
              "    </tr>\n",
              "    <tr>\n",
              "      <th>8</th>\n",
              "      <td>8</td>\n",
              "      <td>17</td>\n",
              "      <td>18</td>\n",
              "      <td>when do you use instead</td>\n",
              "      <td>when do you use instead</td>\n",
              "      <td>0</td>\n",
              "      <td>0.962969</td>\n",
              "      <td>0.500000</td>\n",
              "      <td>0.999980</td>\n",
              "      <td>0.999980</td>\n",
              "      <td>1.0</td>\n",
              "      <td>1.0</td>\n",
              "      <td>0.0</td>\n",
              "      <td>5.0</td>\n",
              "      <td>5.0</td>\n",
              "      <td>10.0</td>\n",
              "      <td>1</td>\n",
              "      <td>2</td>\n",
              "    </tr>\n",
              "    <tr>\n",
              "      <th>9</th>\n",
              "      <td>9</td>\n",
              "      <td>19</td>\n",
              "      <td>20</td>\n",
              "      <td>motorola company can i hack my charter motorol...</td>\n",
              "      <td>how do i hack motorola dcx3400 free internet</td>\n",
              "      <td>0</td>\n",
              "      <td>0.337060</td>\n",
              "      <td>0.263158</td>\n",
              "      <td>0.499994</td>\n",
              "      <td>0.444440</td>\n",
              "      <td>0.0</td>\n",
              "      <td>0.0</td>\n",
              "      <td>1.0</td>\n",
              "      <td>8.5</td>\n",
              "      <td>4.0</td>\n",
              "      <td>17.0</td>\n",
              "      <td>1</td>\n",
              "      <td>1</td>\n",
              "    </tr>\n",
              "  </tbody>\n",
              "</table>\n",
              "</div>"
            ],
            "text/plain": [
              "   id  qid1  qid2                                          question1  \\\n",
              "0   0     1     2  step by step guide invest in share market in i...   \n",
              "1   1     3     4                 story kohinoor koh i noor diamond    \n",
              "2   2     5     6  how can i increase speed my internet connectio...   \n",
              "3   3     7     8  why am i mentally very lonely how can i solve it    \n",
              "4   4     9    10  one dissolve in water quickly sugar salt metha...   \n",
              "5   5    11    12  astrology i am capricorn sun cap moon cap risi...   \n",
              "6   6    13    14                                should i buy tiago    \n",
              "7   7    15    16                       how can i be good geologist    \n",
              "8   8    17    18                           when do you use instead    \n",
              "9   9    19    20  motorola company can i hack my charter motorol...   \n",
              "\n",
              "                                           question2  is_duplicate  \\\n",
              "0         step by step guide invest in share market              0   \n",
              "1  would happen indian government stole kohinoor ...             0   \n",
              "2  how can internet speed be increased by hacking...             0   \n",
              "3  find remainder when math 23 24 math divided by...             0   \n",
              "4                  fish would survive in salt water              0   \n",
              "5  i am triple capricorn sun moon ascendant in ca...             1   \n",
              "6    keep childern active far from phone video game              0   \n",
              "7                    should i do be great geologist              1   \n",
              "8                           when do you use instead              0   \n",
              "9      how do i hack motorola dcx3400 free internet              0   \n",
              "\n",
              "   cosine_similarity  word_share   cwc_min   cwc_max  last_word_eq  \\\n",
              "0           0.961292    0.470588  0.874989  0.699993           0.0   \n",
              "1           0.504665    0.315789  0.833319  0.454541           0.0   \n",
              "2           0.305122    0.238095  0.444440  0.399996           0.0   \n",
              "3           0.446903    0.050000  0.000000  0.000000           0.0   \n",
              "4           0.378238    0.210526  0.499992  0.272725           0.0   \n",
              "5           0.770365    0.375000  0.666661  0.666661           1.0   \n",
              "6           0.414605    0.071429  0.000000  0.000000           0.0   \n",
              "7           0.759090    0.285714  0.499992  0.499992           1.0   \n",
              "8           0.962969    0.500000  0.999980  0.999980           1.0   \n",
              "9           0.337060    0.263158  0.499994  0.444440           0.0   \n",
              "\n",
              "   first_word_eq  abs_len_diff  mean_len  word_common  word_total  q1_freq  \\\n",
              "0            1.0           2.0       9.0          7.0        18.0        1   \n",
              "1            0.0           5.0       8.5          5.0        17.0        4   \n",
              "2            1.0           1.0       9.5          4.0        19.0        1   \n",
              "3            0.0           0.0      11.0          0.0        22.0        1   \n",
              "4            0.0           5.0       8.5          3.0        17.0        3   \n",
              "5            0.0           0.0      12.0          8.0        24.0        1   \n",
              "6            0.0           4.0       6.0          0.0        12.0        1   \n",
              "7            0.0           0.0       6.0          3.0        12.0        1   \n",
              "8            1.0           0.0       5.0          5.0        10.0        1   \n",
              "9            0.0           1.0       8.5          4.0        17.0        1   \n",
              "\n",
              "   q2_freq  \n",
              "0        1  \n",
              "1        1  \n",
              "2        1  \n",
              "3        1  \n",
              "4        1  \n",
              "5        1  \n",
              "6        1  \n",
              "7        1  \n",
              "8        2  \n",
              "9        1  "
            ]
          },
          "execution_count": 79,
          "metadata": {},
          "output_type": "execute_result"
        }
      ],
      "source": [
        "new_data.head(10)"
      ]
    },
    {
      "cell_type": "markdown",
      "metadata": {
        "id": "dUMFAX_9e8GU"
      },
      "source": [
        "split data into 80% train & 20 % test"
      ]
    },
    {
      "cell_type": "code",
      "execution_count": null,
      "metadata": {
        "colab": {
          "base_uri": "https://localhost:8080/"
        },
        "id": "07FCPW6qFw4u",
        "outputId": "20741a0f-281f-440b-f6b9-790959cd3527"
      },
      "outputs": [
        {
          "name": "stdout",
          "output_type": "stream",
          "text": [
            "(404290, 8)\n",
            "(404290,)\n"
          ]
        }
      ],
      "source": [
        "X=MinMaxScaler().fit_transform(new_data[['cosine_similarity','cwc_min','cwc_max','last_word_eq','first_word_eq','word_share','q1_freq','q2_freq']])#features\n",
        "Y=new_data[\"is_duplicate\"].values#label\n",
        "\n",
        "X_train, X_test, y_train, y_test = train_test_split(X, Y, test_size=0.2,shuffle=True,random_state=10)\n",
        "print(X.shape)\n",
        "print(Y.shape)\n"
      ]
    },
    {
      "cell_type": "code",
      "execution_count": null,
      "metadata": {
        "id": "hMWNL4yigEeJ"
      },
      "outputs": [],
      "source": [
        "def train_model(X_train, X_test, y_train, y_test, model):\n",
        "    # fit the training dataset on the classifier\n",
        "    model.fit(X_train, y_train)\n",
        "    # predict the labels on validation dataset\n",
        "    y_train_predicted = model.predict(X_train)\n",
        "    prediction = model.predict(X_test)\n",
        "\n",
        "    train_err = metrics.accuracy_score(y_train, y_train_predicted)\n",
        "    test_err = metrics.accuracy_score(y_test, prediction)\n",
        "    \n",
        "    print('Train subset accuracy ', train_err)\n",
        "    print('Test subset accuracy' ,test_err)\n",
        "    cm=metrics.confusion_matrix(y_test, prediction)\n",
        "    return cm"
      ]
    },
    {
      "cell_type": "code",
      "execution_count": null,
      "metadata": {
        "colab": {
          "base_uri": "https://localhost:8080/"
        },
        "id": "2dhMc_OElUHH",
        "outputId": "b0be1642-40c8-4a07-82f1-ba4e60495cdb",
        "scrolled": true
      },
      "outputs": [
        {
          "name": "stdout",
          "output_type": "stream",
          "text": [
            "Train subset accuracy  0.8009627989809295\n",
            "Test subset accuracy 0.8003413391377476\n"
          ]
        }
      ],
      "source": [
        "#adaboost classifier\n",
        "bdt = AdaBoostClassifier(DecisionTreeClassifier(max_depth=3),algorithm=\"SAMME\",n_estimators=300)\n",
        "bdt_graph=train_model(X_train, X_test, y_train, y_test, bdt)"
      ]
    },
    {
      "cell_type": "code",
      "execution_count": null,
      "metadata": {
        "id": "PkFGfy5L7i-o",
        "outputId": "8ce5c9d5-55aa-4304-a333-9b53a0620108"
      },
      "outputs": [
        {
          "name": "stdout",
          "output_type": "stream",
          "text": [
            "Train subset accuracy  0.7704123277845111\n",
            "Test subset accuracy 0.7712533082688169\n"
          ]
        }
      ],
      "source": [
        "#RandomForestClassifier\n",
        "from sklearn.ensemble import RandomForestClassifier\n",
        "\n",
        "rf = RandomForestClassifier(max_depth=3,n_estimators=300)\n",
        "rf_graph=train_model(X_train, X_test, y_train, y_test, rf)"
      ]
    },
    {
      "cell_type": "code",
      "execution_count": null,
      "metadata": {
        "id": "7fP937UY7i-o",
        "outputId": "42055b3f-aa8c-473b-904e-4fa857d18eb1"
      },
      "outputs": [
        {
          "name": "stdout",
          "output_type": "stream",
          "text": [
            "Train subset accuracy  0.8166322441811571\n",
            "Test subset accuracy 0.8105444111899874\n"
          ]
        }
      ],
      "source": [
        "#XGBClassifier\n",
        "#%pip install --default-timeout=100 xgboost\n",
        "from xgboost import XGBClassifier\n",
        "xgb = XGBClassifier()\n",
        "xgb_graph=train_model(X_train, X_test, y_train, y_test, xgb)"
      ]
    },
    {
      "cell_type": "code",
      "execution_count": null,
      "metadata": {
        "id": "z5zvoYOS7i-o",
        "outputId": "207969c3-3d18-4545-9d47-b04eb548fb0a"
      },
      "outputs": [
        {
          "data": {
            "text/plain": [
              "<AxesSubplot:>"
            ]
          },
          "execution_count": 75,
          "metadata": {},
          "output_type": "execute_result"
        },
        {
          "data": {
            "image/png": "[encoded data removed]",
            "text/plain": [
              "<Figure size 432x288 with 2 Axes>"
            ]
          },
          "metadata": {
            "needs_background": "light"
          },
          "output_type": "display_data"
        }
      ],
      "source": [
        "sns.heatmap(xgb_graph,annot=True)"
      ]
    }
  ],
  "metadata": {
    "colab": {
      "collapsed_sections": [],
      "name": "Sentence_Semantic_similarity .ipynb",
      "provenance": [],
      "include_colab_link": true
    },
    "kernelspec": {
      "display_name": "Python 3 (ipykernel)",
      "language": "python",
      "name": "python3"
    },
    "language_info": {
      "codemirror_mode": {
        "name": "ipython",
        "version": 3
      },
      "file_extension": ".py",
      "mimetype": "text/x-python",
      "name": "python",
      "nbconvert_exporter": "python",
      "pygments_lexer": "ipython3",
      "version": "3.9.11"
    }
  },
  "nbformat": 4,
  "nbformat_minor": 0
}